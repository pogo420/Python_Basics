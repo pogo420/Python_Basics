{
 "cells": [
  {
   "cell_type": "markdown",
   "metadata": {},
   "source": [
    "### Dictionary swap"
   ]
  },
  {
   "cell_type": "code",
   "execution_count": 55,
   "metadata": {
    "collapsed": false
   },
   "outputs": [],
   "source": [
    "def dic_swap_(dic_obj):\n",
    "    output=[]\n",
    "    output_dic={}\n",
    "    print dic_obj\n",
    "    print 'after change'\n",
    "    for i in dic_obj.items():\n",
    "        temp=list(i)\n",
    "        temp.reverse()\n",
    "        output.append(tuple(temp))\n",
    "    \n",
    "    \n",
    "    for i,j in output:\n",
    "    \n",
    "        if not output_dic.has_key(i):\n",
    "            output_dic[i]=j\n",
    "        else:\n",
    "            if str(type(output_dic[i])) !=\"<type 'list'>\":\n",
    "                output_dic[i]=[output_dic[i]]+[j]\n",
    "                #print output_dic[i],'f'\n",
    "            else:\n",
    "                output_dic[i]=output_dic[i]+[j]\n",
    "                #print output_dic[i],'n'\n",
    "        \n",
    "    #print dict(output)\n",
    "    print output_dic"
   ]
  },
  {
   "cell_type": "code",
   "execution_count": 56,
   "metadata": {
    "collapsed": false
   },
   "outputs": [
    {
     "name": "stdout",
     "output_type": "stream",
     "text": [
      "{0: 'a', 1: 'a', 2: 'b', 3: 'a', 4: 'c', 5: 'a', 6: 'b', 7: 'a', 8: 'c', 9: 'a'}\n",
      "after change\n",
      "{'a': [0, 1, 3, 5, 7, 9], 'c': [4, 8], 'b': [2, 6]}\n"
     ]
    }
   ],
   "source": [
    "dic={1:'a',2:'b',3:'a',9:'a',8:'c',7:'a',6:'b',0:'a',5:'a',4:'c'}\n",
    "dic_swap_(dic)"
   ]
  },
  {
   "cell_type": "code",
   "execution_count": null,
   "metadata": {
    "collapsed": false
   },
   "outputs": [],
   "source": []
  },
  {
   "cell_type": "code",
   "execution_count": null,
   "metadata": {
    "collapsed": true
   },
   "outputs": [],
   "source": []
  }
 ],
 "metadata": {
  "kernelspec": {
   "display_name": "Python 2",
   "language": "python",
   "name": "python2"
  },
  "language_info": {
   "codemirror_mode": {
    "name": "ipython",
    "version": 2
   },
   "file_extension": ".py",
   "mimetype": "text/x-python",
   "name": "python",
   "nbconvert_exporter": "python",
   "pygments_lexer": "ipython2",
   "version": "2.7.13"
  }
 },
 "nbformat": 4,
 "nbformat_minor": 2
}
